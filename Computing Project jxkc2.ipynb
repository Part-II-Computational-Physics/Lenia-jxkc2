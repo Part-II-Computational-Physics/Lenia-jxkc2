{
 "cells": [
  {
   "attachments": {},
   "cell_type": "markdown",
   "metadata": {},
   "source": [
    "# The Mysterious Realm of Lenia (jxkc2)\n"
   ]
  },
  {
   "attachments": {},
   "cell_type": "markdown",
   "metadata": {},
   "source": [
    "### Content Outline\n",
    "1. [Unveiling the Lenia Model](#Unveiling-the-Lenia-Model)\n",
    "2. [Basic Principles of Cellular Automata](#Basic-Principles-of-Cellular-Automata)\n",
    "3. [The Classics of Cellular Automata](#The-Classics-of-Cellular-Automata)\n",
    "4. [Bridging into Lenia from the Classics](#Bridging-into-Lenia-from-the-Classics)\n",
    "5. [Discovering other Variations of Lenia](#Discovering-other-Variations-of-Lenia)"
   ]
  },
  {
   "attachments": {},
   "cell_type": "markdown",
   "metadata": {},
   "source": [
    "## Unveiling the Lenia Model\n",
    "\n",
    "<img src=\"https://miro.medium.com/v2/resize:fit:1280/1*CwTP7ARiYE_BvsWOQzCkLA.gif\" width=\"384\" height=\"150\" />\n",
    "\n",
    "![](<img src=\"https://miro.medium.com/v2/resize:fit:1280/1*CwTP7ARiYE_BvsWOQzCkLA.gif\" width=\"384\" height=\"150\" />)\n",
    "*Fig.1: Computer Simulation of Artificial Life in a 2D Grid*\n",
    "\n",
    "A beautiful display of patterns, is it not? The above figure (or lenia) is a simulation describing the amazing yet complex changes in artificial patterns used to mimick the seemingly random changes in the states of living cells, which is in fact governed by a specific set of systematic rules. This is a characteristic of a discrete computational model called Cellular Automata, a complex system of several simple agents working together and exhibiting complex intelligent behaviour. \n",
    "\n",
    "In fact, the behaviour of lenia exhibited in Fig. 1 is an extension of the famous Conway's Way of Life; a continuous generalisation of the famous model. However, before ambitiously diving into the exploration of the lenia model and beyond in this report, we will start from leveraging the basic principles of the Cellular Automata model using simple classic examples and building this foundational framework up to study the lenia model, in addition to leaving some final room for applying our derived understanding of cellular automata models to other relevant applications of computational design in other fields."
   ]
  },
  {
   "attachments": {},
   "cell_type": "markdown",
   "metadata": {},
   "source": [
    "## Basic Principles of Cellular Automata\n",
    "\n",
    "In Cellular Automata (CA), we need 3 specific aspects.\n",
    "1. Grid of Cells/Entities \n",
    "2. The State of the Cells\n",
    "3. Rules governing changes in State of the Cells\n",
    "\n",
    "In order to simulate a cellular automata model, a spatial grid of cells, be it, 1D, 2D or 3D needs to be defined. In this grid, every cell can be thought of as an entity with a known state. For simplicity, we can assume this state to be of a binary type where the cell can exist in either state 0 or state 1 (white or black, etc.). The last aspect requires a set of defined rules that can model how these cell states change over time. This is determined by analysing neighbouring states. For instance, in the next moment in time, the state of cell can be calculated based on the neighborhood of one state, be it through summing neighboring states, averaging them, etc. Mathematically, we can express this relationship as:\n",
    "\n",
    "$(cell \\ state)_{at \\ any \\ moment \\ in \\ time, \\ t} = f(neighborhood \\ of \\ states)_{t-1}$\n",
    "\n",
    "for future generations of time, $t$.\n",
    "\n",
    "In the next section, we will look at the classic examples of Wolfram's elementary CA and Conway's Way of Life to look at the design set-up of the rules influencing the change of states over time. From which, we will transition into the set-up of lenia and take a creative leap into modifying and extending the current lenia model implementation in the subsequent sections."
   ]
  },
  {
   "attachments": {},
   "cell_type": "markdown",
   "metadata": {},
   "source": [
    "## The Classics of Cellular Automata\n",
    "\n"
   ]
  },
  {
   "cell_type": "markdown",
   "metadata": {},
   "source": []
  },
  {
   "cell_type": "markdown",
   "metadata": {},
   "source": []
  },
  {
   "cell_type": "code",
   "execution_count": null,
   "metadata": {},
   "outputs": [],
   "source": []
  }
 ],
 "metadata": {
  "kernelspec": {
   "display_name": "Python 3",
   "language": "python",
   "name": "python3"
  },
  "language_info": {
   "name": "python",
   "version": "3.9.0"
  },
  "orig_nbformat": 4,
  "vscode": {
   "interpreter": {
    "hash": "569caa942f298872b468c13542e57944b403e01f341733077590c8127d9b791b"
   }
  }
 },
 "nbformat": 4,
 "nbformat_minor": 2
}
